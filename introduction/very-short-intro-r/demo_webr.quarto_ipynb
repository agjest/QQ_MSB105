{
  "cells": [
    {
      "cell_type": "markdown",
      "metadata": {},
      "source": [
        "---\n",
        "title: \"demo_webr\"\n",
        "filters: \n",
        "  - webr\n",
        "---\n",
        "\n",
        "\n",
        "## Calculator\n",
        "\n",
        "```{webr-r}\n",
        "2 + 2\n",
        "```\n",
        "\n",
        "```{web-r}\n",
        "(2/15)^0.25*exp(4) - 200\n",
        "```\n",
        "\n",
        "## Variables\n",
        "\n",
        "```{webr-r}\n",
        "2\n",
        "```\n",
        "\n",
        "```{webr-r}\n",
        "x <- 2\n",
        "```\n",
        "\n",
        "```{webr-r}\n",
        "x\n",
        "```\n",
        "\n",
        "\n",
        "```{webr}\n",
        "(x <- 2)\n",
        "```"
      ],
      "id": "704b779c"
    }
  ],
  "metadata": {
    "kernelspec": {
      "display_name": "Python 3",
      "language": "python",
      "name": "python3"
    }
  },
  "nbformat": 4,
  "nbformat_minor": 5
}